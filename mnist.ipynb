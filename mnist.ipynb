{
 "cells": [
  {
   "cell_type": "code",
   "execution_count": 1,
   "id": "f3198d17-a547-4dea-a7de-ec7b082d5dab",
   "metadata": {
    "tags": []
   },
   "outputs": [
    {
     "name": "stdout",
     "output_type": "stream",
     "text": [
      "Looking in indexes: https://pypi.org/simple, https://download.pytorch.org/whl/cu113\n",
      "Requirement already satisfied: torch==1.12.1+cu113 in .\\fashion\\lib\\site-packages (1.12.1+cu113)\n",
      "Requirement already satisfied: torchvision==0.13.1+cu113 in .\\fashion\\lib\\site-packages (0.13.1+cu113)\n",
      "Requirement already satisfied: typing-extensions in .\\fashion\\lib\\site-packages (from torch==1.12.1+cu113) (4.10.0)\n",
      "Requirement already satisfied: numpy in .\\fashion\\lib\\site-packages (from torchvision==0.13.1+cu113) (1.26.4)\n",
      "Requirement already satisfied: requests in .\\fashion\\lib\\site-packages (from torchvision==0.13.1+cu113) (2.31.0)\n",
      "Requirement already satisfied: pillow!=8.3.*,>=5.3.0 in .\\fashion\\lib\\site-packages (from torchvision==0.13.1+cu113) (10.2.0)\n",
      "Requirement already satisfied: charset-normalizer<4,>=2 in .\\fashion\\lib\\site-packages (from requests->torchvision==0.13.1+cu113) (3.3.2)\n",
      "Requirement already satisfied: idna<4,>=2.5 in .\\fashion\\lib\\site-packages (from requests->torchvision==0.13.1+cu113) (3.6)\n",
      "Requirement already satisfied: certifi>=2017.4.17 in .\\fashion\\lib\\site-packages (from requests->torchvision==0.13.1+cu113) (2024.2.2)\n",
      "Requirement already satisfied: urllib3<3,>=1.21.1 in .\\fashion\\lib\\site-packages (from requests->torchvision==0.13.1+cu113) (2.2.1)\n",
      "Note: you may need to restart the kernel to use updated packages.\n"
     ]
    },
    {
     "name": "stderr",
     "output_type": "stream",
     "text": [
      "WARNING: You are using pip version 20.2.3; however, version 24.0 is available.\n",
      "You should consider upgrading via the 'f:\\fashion cnn\\fashion\\Scripts\\python.exe -m pip install --upgrade pip' command.\n"
     ]
    }
   ],
   "source": [
    "pip install torch==1.12.1+cu113 torchvision==0.13.1+cu113 --extra-index-url https://download.pytorch.org/whl/cu113"
   ]
  },
  {
   "cell_type": "code",
   "execution_count": 2,
   "id": "a82a105c",
   "metadata": {},
   "outputs": [
    {
     "name": "stdout",
     "output_type": "stream",
     "text": [
      "Package             Version\n",
      "------------------- ------------\n",
      "asttokens           2.4.1\n",
      "certifi             2024.2.2\n",
      "charset-normalizer  3.3.2\n",
      "colorama            0.4.6\n",
      "comm                0.2.1\n",
      "contourpy           1.2.0\n",
      "cycler              0.12.1\n",
      "debugpy             1.8.1\n",
      "decorator           5.1.1\n",
      "exceptiongroup      1.2.0\n",
      "executing           2.0.1\n",
      "filelock            3.13.1\n",
      "fonttools           4.49.0\n",
      "fsspec              2024.2.0\n",
      "idna                3.6\n",
      "importlib-metadata  7.0.1\n",
      "importlib-resources 6.1.2\n",
      "ipykernel           6.29.3\n",
      "ipython             8.18.1\n",
      "jedi                0.19.1\n",
      "Jinja2              3.1.3\n",
      "jupyter-client      8.6.0\n",
      "jupyter-core        5.7.1\n",
      "kiwisolver          1.4.5\n",
      "MarkupSafe          2.1.5\n",
      "matplotlib          3.8.3\n",
      "matplotlib-inline   0.1.6\n",
      "mpmath              1.3.0\n",
      "nest-asyncio        1.6.0\n",
      "networkx            3.2.1\n",
      "numpy               1.26.4\n",
      "packaging           23.2\n",
      "parso               0.8.3\n",
      "pillow              10.2.0\n",
      "pip                 20.2.3\n",
      "platformdirs        4.2.0\n",
      "prompt-toolkit      3.0.43\n",
      "psutil              5.9.8\n",
      "pure-eval           0.2.2\n",
      "pygments            2.17.2\n",
      "pyparsing           3.1.1\n",
      "python-dateutil     2.8.2\n",
      "pywin32             306\n",
      "pyzmq               25.1.2\n",
      "requests            2.31.0\n",
      "setuptools          49.2.1\n",
      "six                 1.16.0\n",
      "stack-data          0.6.3\n",
      "sympy               1.12\n",
      "torch               1.12.1+cu113\n",
      "torchvision         0.13.1+cu113\n",
      "tornado             6.4\n",
      "traitlets           5.14.1\n",
      "typing-extensions   4.10.0\n",
      "urllib3             2.2.1\n",
      "wcwidth             0.2.13\n",
      "zipp                3.17.0\n",
      "Note: you may need to restart the kernel to use updated packages.\n"
     ]
    },
    {
     "name": "stderr",
     "output_type": "stream",
     "text": [
      "WARNING: You are using pip version 20.2.3; however, version 24.0 is available.\n",
      "You should consider upgrading via the 'f:\\fashion cnn\\fashion\\Scripts\\python.exe -m pip install --upgrade pip' command.\n"
     ]
    }
   ],
   "source": [
    "pip list"
   ]
  },
  {
   "cell_type": "code",
   "execution_count": 3,
   "id": "0afbdc16",
   "metadata": {
    "tags": []
   },
   "outputs": [],
   "source": [
    "import torch\n",
    "import torchvision\n",
    "import torchvision.transforms as transforms"
   ]
  },
  {
   "cell_type": "code",
   "execution_count": 4,
   "id": "c25b700e",
   "metadata": {
    "tags": []
   },
   "outputs": [
    {
     "data": {
      "text/plain": [
       "True"
      ]
     },
     "execution_count": 4,
     "metadata": {},
     "output_type": "execute_result"
    }
   ],
   "source": [
    "torch.cuda.is_available() # checks if CUDA gpu is avaialble"
   ]
  },
  {
   "cell_type": "code",
   "execution_count": 5,
   "id": "39c19981",
   "metadata": {
    "tags": []
   },
   "outputs": [
    {
     "data": {
      "text/plain": [
       "'cuda:0'"
      ]
     },
     "execution_count": 5,
     "metadata": {},
     "output_type": "execute_result"
    }
   ],
   "source": [
    "device = 'cuda:0' if torch.cuda.is_available() else 'cpu'\n",
    "device"
   ]
  },
  {
   "cell_type": "code",
   "execution_count": 6,
   "id": "2610c9d7",
   "metadata": {
    "tags": []
   },
   "outputs": [],
   "source": [
    "transform = transforms.ToTensor()\n",
    "\n",
    "batch_size = 4 \n",
    "learning_rate = 0.001 # tuned multiplier\n",
    "\n",
    "trainset = torchvision.datasets.FashionMNIST(root='./data', train=True, download=True, transform=transform)\n",
    "\n",
    "\n",
    "testset = torchvision.datasets.FashionMNIST(root='./data', train=False, download=True, transform=transform)\n",
    "\n",
    "classes = ('T-shirt/top', 'Trouser/pants','Pullover shirt','Dress','Coat','Sandal','Shirt','Sneaker','Bag','Ankle boot')"
   ]
  },
  {
   "cell_type": "code",
   "execution_count": 7,
   "id": "9500b21f",
   "metadata": {
    "tags": []
   },
   "outputs": [
    {
     "data": {
      "text/plain": [
       "(torch.Size([1, 28, 28]), 9)"
      ]
     },
     "execution_count": 7,
     "metadata": {},
     "output_type": "execute_result"
    }
   ],
   "source": [
    "train_iter = iter(trainset)\n",
    "\n",
    "image, label = next(train_iter)\n",
    "\n",
    "image.shape, label"
   ]
  },
  {
   "cell_type": "code",
   "execution_count": 8,
   "id": "1434bdd9-fbeb-42c4-9e04-0fbf6cd7933b",
   "metadata": {
    "tags": []
   },
   "outputs": [
    {
     "data": {
      "text/plain": [
       "(0.0, 1.0)"
      ]
     },
     "execution_count": 8,
     "metadata": {},
     "output_type": "execute_result"
    }
   ],
   "source": [
    "torch.min(image).item(), torch.max(image).item()"
   ]
  },
  {
   "cell_type": "code",
   "execution_count": 9,
   "id": "66b16564-02f5-442b-8f15-c129956a9546",
   "metadata": {},
   "outputs": [
    {
     "name": "stdout",
     "output_type": "stream",
     "text": [
      "Ankle boot\n"
     ]
    },
    {
     "data": {
      "text/plain": [
       "<matplotlib.image.AxesImage at 0x2895d1a8f10>"
      ]
     },
     "execution_count": 9,
     "metadata": {},
     "output_type": "execute_result"
    },
    {
     "data": {
      "image/png": "[encoded data removed]",
      "text/plain": [
       "<Figure size 640x480 with 1 Axes>"
      ]
     },
     "metadata": {},
     "output_type": "display_data"
    }
   ],
   "source": [
    "import matplotlib.pyplot as plt\n",
    "import numpy as np \n",
    "\n",
    "np_img = image.numpy()\n",
    "\n",
    "# print index\n",
    "print(classes[label])\n",
    "\n",
    "# print image 28x28 pixel\n",
    "plt.imshow(np_img.reshape((28,28,1)))"
   ]
  },
  {
   "cell_type": "code",
   "execution_count": 10,
   "id": "6ddd7427",
   "metadata": {},
   "outputs": [
    {
     "data": {
      "text/plain": [
       "(60000, 10000)"
      ]
     },
     "execution_count": 10,
     "metadata": {},
     "output_type": "execute_result"
    }
   ],
   "source": [
    "len(trainset), len(testset) # shows # image level pairs"
   ]
  },
  {
   "cell_type": "code",
   "execution_count": 11,
   "id": "675a0464",
   "metadata": {},
   "outputs": [
    {
     "data": {
      "text/plain": [
       "(50000, 10000, 10000)"
      ]
     },
     "execution_count": 11,
     "metadata": {},
     "output_type": "execute_result"
    }
   ],
   "source": [
    "trainset, valset = torch.utils.data.random_split(trainset, [50000, 10000])\n",
    "len(trainset), len(valset), len(testset)"
   ]
  },
  {
   "cell_type": "code",
   "execution_count": 12,
   "id": "46ad5f95",
   "metadata": {},
   "outputs": [
    {
     "name": "stdout",
     "output_type": "stream",
     "text": [
      "Number of batches in the training set: 12500\n"
     ]
    }
   ],
   "source": [
    "print(f'Number of batches in the training set: {int(50000 / batch_size)}')"
   ]
  },
  {
   "cell_type": "code",
   "execution_count": 13,
   "id": "6b2648b2",
   "metadata": {},
   "outputs": [
    {
     "name": "stdout",
     "output_type": "stream",
     "text": [
      "Number of batches in the validation set: 2500\n"
     ]
    }
   ],
   "source": [
    "print(f'Number of batches in the validation set: {int(10000 / batch_size)}')"
   ]
  },
  {
   "cell_type": "code",
   "execution_count": 14,
   "id": "9579d590",
   "metadata": {},
   "outputs": [
    {
     "data": {
      "text/plain": [
       "torch.utils.data.dataset.Subset"
      ]
     },
     "execution_count": 14,
     "metadata": {},
     "output_type": "execute_result"
    }
   ],
   "source": [
    "type(trainset)"
   ]
  },
  {
   "cell_type": "code",
   "execution_count": 15,
   "id": "4815e37c",
   "metadata": {},
   "outputs": [],
   "source": [
    "trainloader = torch.utils.data.DataLoader(trainset, batch_size=batch_size, shuffle=True, num_workers=2)\n",
    "\n",
    "valloader = torch.utils.data.DataLoader(valset, batch_size=batch_size, shuffle=False, num_workers=2)\n",
    "\n",
    "testloader = torch.utils.data.DataLoader(testset, batch_size=batch_size, shuffle=False, num_workers=2)"
   ]
  },
  {
   "cell_type": "code",
   "execution_count": 16,
   "id": "ad1a04d5",
   "metadata": {},
   "outputs": [],
   "source": [
    "import torch.nn as nn\n",
    "import torch.nn.functional as F\n",
    "\n",
    "class NeuralNet(nn.Module):\n",
    "    def __init__(self):\n",
    "        super().__init__()\n",
    "        \n",
    "        # Add to out_channels since we were not outfitting. Adding complexity to the model will help it learn better\n",
    "        self.conv1 = nn.Conv2d(in_channels=1, out_channels=256, kernel_size=3)\n",
    "        self.batch_norm1 = nn.BatchNorm2d(256)\n",
    "        self.pool1 = nn.MaxPool2d(2, 2)\n",
    "        \n",
    "        self.conv2 = nn.Conv2d(in_channels=256, out_channels=512, kernel_size=3)\n",
    "        self.batch_norm2 = nn.BatchNorm2d(512)\n",
    "        self.pool2 = nn.MaxPool2d(2, 2)\n",
    "\n",
    "        self.avg_pool = nn.AvgPool2d(5, 5)\n",
    "        self.flatten = nn.Flatten()\n",
    "        \n",
    "        self.fc1 = nn.Linear(in_features=512, out_features=512)\n",
    "        self.drop1 = nn.Dropout(p=0.1)\n",
    "        self.out = nn.Linear(in_features=512, out_features=10)\n",
    "\n",
    "    \n",
    "    def forward(self, x):\n",
    "        x = F.relu(self.conv1(x))\n",
    "        x = self.batch_norm1(x)\n",
    "        x = self.pool1(x)\n",
    "        \n",
    "        x = F.relu(self.conv2(x))\n",
    "        x = self.batch_norm2(x)\n",
    "        x = self.pool2(x)\n",
    "        \n",
    "        #print(f'Shape before pool: {x.shape}')\n",
    "        x = self.avg_pool(x)\n",
    "        #print(f'Shape after pool: {x.shape}')\n",
    "        \n",
    "        x = self.flatten(x)\n",
    "        x = F.relu(self.fc1(x))\n",
    "    \n",
    "        x = self.out(x)\n",
    "\n",
    "        return x"
   ]
  },
  {
   "cell_type": "code",
   "execution_count": 17,
   "id": "8d96f956",
   "metadata": {},
   "outputs": [
    {
     "data": {
      "text/plain": [
       "NeuralNet(\n",
       "  (conv1): Conv2d(1, 256, kernel_size=(3, 3), stride=(1, 1))\n",
       "  (batch_norm1): BatchNorm2d(256, eps=1e-05, momentum=0.1, affine=True, track_running_stats=True)\n",
       "  (pool1): MaxPool2d(kernel_size=2, stride=2, padding=0, dilation=1, ceil_mode=False)\n",
       "  (conv2): Conv2d(256, 512, kernel_size=(3, 3), stride=(1, 1))\n",
       "  (batch_norm2): BatchNorm2d(512, eps=1e-05, momentum=0.1, affine=True, track_running_stats=True)\n",
       "  (pool2): MaxPool2d(kernel_size=2, stride=2, padding=0, dilation=1, ceil_mode=False)\n",
       "  (avg_pool): AvgPool2d(kernel_size=5, stride=5, padding=0)\n",
       "  (flatten): Flatten(start_dim=1, end_dim=-1)\n",
       "  (fc1): Linear(in_features=512, out_features=512, bias=True)\n",
       "  (drop1): Dropout(p=0.1, inplace=False)\n",
       "  (out): Linear(in_features=512, out_features=10, bias=True)\n",
       ")"
      ]
     },
     "execution_count": 17,
     "metadata": {},
     "output_type": "execute_result"
    }
   ],
   "source": [
    "# Instantiate the network\n",
    "\n",
    "net = NeuralNet()\n",
    "net.to(device)"
   ]
  },
  {
   "cell_type": "code",
   "execution_count": 18,
   "id": "8a5a5545",
   "metadata": {},
   "outputs": [
    {
     "name": "stdout",
     "output_type": "stream",
     "text": [
      "input shape: torch.Size([4, 1, 28, 28])\n",
      "after network shape: torch.Size([4, 10])\n"
     ]
    }
   ],
   "source": [
    "for i, data in enumerate(trainloader):\n",
    "    inputs, labels = data[0].to(device), data[1].to(device)\n",
    "    print(f'input shape: {inputs.shape}')\n",
    "    print(f'after network shape: {net(inputs).shape}')\n",
    "    break"
   ]
  },
  {
   "cell_type": "code",
   "execution_count": 19,
   "id": "9bb59d1d",
   "metadata": {},
   "outputs": [
    {
     "name": "stdout",
     "output_type": "stream",
     "text": [
      "Number of parameters in the network: 1,452,042\n"
     ]
    }
   ],
   "source": [
    "num_params = 0\n",
    "for x in net.parameters():\n",
    "    num_params += len(torch.flatten(x))\n",
    "    \n",
    "print(f'Number of parameters in the network: {num_params:,}')"
   ]
  },
  {
   "cell_type": "code",
   "execution_count": 20,
   "id": "24b54bb2",
   "metadata": {},
   "outputs": [],
   "source": [
    "import torch.optim as optim\n",
    "\n",
    "criterion = nn.CrossEntropyLoss()\n",
    "optimizer = optim.Adam(net.parameters(), lr=0.0001)"
   ]
  },
  {
   "cell_type": "code",
   "execution_count": 21,
   "id": "8caef34a",
   "metadata": {},
   "outputs": [
    {
     "name": "stdout",
     "output_type": "stream",
     "text": [
      "\n"
     ]
    }
   ],
   "source": [
    "def train_one_epoch():\n",
    "    net.train(True) # set the network to training mode\n",
    "    \n",
    "    running_loss = 0.0\n",
    "    running_accuracy = 0.0\n",
    "    \n",
    "    for batch_index, data in enumerate(trainloader):\n",
    "        inputs, labels = data[0].to(device), data[1].to(device)\n",
    "        \n",
    "        optimizer.zero_grad() # Reset the gradients to zero\n",
    "        \n",
    "        outputs = net(inputs) # shape: (batch_size, 10)\n",
    "        correct = torch.sum(labels == torch.argmax(outputs, dim=1)).item() # compares the labels to the predictions and sums the correct ones and converts to a number\n",
    "        running_accuracy += correct / batch_size\n",
    "        \n",
    "        loss = criterion(outputs, labels) # compares predictions to labels\n",
    "        running_loss += loss.item()\n",
    "        loss.backward() # Go through the loss and go through the network and calculate the gradients\n",
    "        optimizer.step()\n",
    "        \n",
    "        if batch_index % 500 == 499:  # print every 500 batches\n",
    "            avg_loss_across_batches = running_loss / 500\n",
    "            avg_acc_across_batches = (running_accuracy / 500) * 100\n",
    "            print('Batch {0}, Loss: {1:.3f}, Accuracy: {2:.1f}%'.format(batch_index+1, avg_loss_across_batches, avg_acc_across_batches))\n",
    "            running_loss = 0.0\n",
    "            running_accuracy = 0.0\n",
    "        \n",
    "print()\n"
   ]
  },
  {
   "cell_type": "code",
   "execution_count": 22,
   "id": "b3884ff7",
   "metadata": {},
   "outputs": [],
   "source": [
    "def validate_one_epoch():\n",
    "    net.train(False)\n",
    "    running_loss = 0.0\n",
    "    running_accuracy = 0.0\n",
    "    \n",
    "    for i, data in enumerate(valloader):\n",
    "        inputs, labels = data[0].to(device), data[1].to(device)\n",
    "        \n",
    "        with torch.no_grad():\n",
    "            outputs = net(inputs) # shape: [batch_size, 10]\n",
    "            correct = torch.sum(labels == torch.argmax(outputs, dim=1)).item()\n",
    "            running_accuracy += correct / batch_size\n",
    "            loss = criterion(outputs, labels) # One number, the average batch loss\n",
    "            running_loss += loss.item()\n",
    "        \n",
    "    avg_loss_across_batches = running_loss / len(valloader)\n",
    "    avg_acc_across_batches = (running_accuracy / len(valloader)) * 100\n",
    "    \n",
    "    print('Val Loss: {0:.3f}, Val Accuracy: {1:.1f}%'.format(avg_loss_across_batches,\n",
    "                                                            avg_acc_across_batches))\n",
    "    print('***************************************************')\n",
    "    print()"
   ]
  },
  {
   "cell_type": "code",
   "execution_count": 23,
   "id": "d639ee4b",
   "metadata": {},
   "outputs": [
    {
     "name": "stdout",
     "output_type": "stream",
     "text": [
      "Epoch: 1\n",
      "\n",
      "Batch 500, Loss: 1.213, Accuracy: 57.7%\n",
      "Batch 1000, Loss: 0.800, Accuracy: 72.2%\n",
      "Batch 1500, Loss: 0.732, Accuracy: 74.2%\n",
      "Batch 2000, Loss: 0.665, Accuracy: 75.8%\n",
      "Batch 2500, Loss: 0.612, Accuracy: 76.6%\n",
      "Batch 3000, Loss: 0.573, Accuracy: 79.3%\n",
      "Batch 3500, Loss: 0.541, Accuracy: 80.1%\n",
      "Batch 4000, Loss: 0.526, Accuracy: 80.2%\n",
      "Batch 4500, Loss: 0.513, Accuracy: 81.8%\n",
      "Batch 5000, Loss: 0.497, Accuracy: 81.5%\n",
      "Batch 5500, Loss: 0.523, Accuracy: 81.7%\n",
      "Batch 6000, Loss: 0.461, Accuracy: 84.0%\n",
      "Batch 6500, Loss: 0.479, Accuracy: 81.5%\n",
      "Batch 7000, Loss: 0.442, Accuracy: 83.4%\n",
      "Batch 7500, Loss: 0.463, Accuracy: 83.0%\n",
      "Batch 8000, Loss: 0.448, Accuracy: 83.8%\n",
      "Batch 8500, Loss: 0.434, Accuracy: 84.5%\n",
      "Batch 9000, Loss: 0.453, Accuracy: 84.2%\n",
      "Batch 9500, Loss: 0.439, Accuracy: 83.9%\n",
      "Batch 10000, Loss: 0.416, Accuracy: 85.5%\n",
      "Batch 10500, Loss: 0.405, Accuracy: 85.2%\n",
      "Batch 11000, Loss: 0.400, Accuracy: 85.3%\n",
      "Batch 11500, Loss: 0.445, Accuracy: 83.8%\n",
      "Batch 12000, Loss: 0.405, Accuracy: 85.7%\n",
      "Batch 12500, Loss: 0.403, Accuracy: 84.9%\n",
      "Val Loss: 0.368, Val Accuracy: 87.2%\n",
      "***************************************************\n",
      "\n",
      "Epoch: 2\n",
      "\n",
      "Batch 500, Loss: 0.377, Accuracy: 86.4%\n",
      "Batch 1000, Loss: 0.411, Accuracy: 85.8%\n",
      "Batch 1500, Loss: 0.400, Accuracy: 85.2%\n",
      "Batch 2000, Loss: 0.365, Accuracy: 86.3%\n",
      "Batch 2500, Loss: 0.390, Accuracy: 86.2%\n",
      "Batch 3000, Loss: 0.392, Accuracy: 86.5%\n",
      "Batch 3500, Loss: 0.338, Accuracy: 87.5%\n",
      "Batch 4000, Loss: 0.419, Accuracy: 84.4%\n",
      "Batch 4500, Loss: 0.372, Accuracy: 86.4%\n",
      "Batch 5000, Loss: 0.366, Accuracy: 85.7%\n",
      "Batch 5500, Loss: 0.368, Accuracy: 86.6%\n",
      "Batch 6000, Loss: 0.389, Accuracy: 85.9%\n",
      "Batch 6500, Loss: 0.334, Accuracy: 88.3%\n",
      "Batch 7000, Loss: 0.379, Accuracy: 87.2%\n",
      "Batch 7500, Loss: 0.316, Accuracy: 88.8%\n",
      "Batch 8000, Loss: 0.345, Accuracy: 87.1%\n",
      "Batch 8500, Loss: 0.329, Accuracy: 87.7%\n",
      "Batch 9000, Loss: 0.329, Accuracy: 87.6%\n",
      "Batch 9500, Loss: 0.366, Accuracy: 85.9%\n",
      "Batch 10000, Loss: 0.348, Accuracy: 87.4%\n",
      "Batch 10500, Loss: 0.340, Accuracy: 87.5%\n",
      "Batch 11000, Loss: 0.333, Accuracy: 87.7%\n",
      "Batch 11500, Loss: 0.351, Accuracy: 87.0%\n",
      "Batch 12000, Loss: 0.332, Accuracy: 87.6%\n",
      "Batch 12500, Loss: 0.326, Accuracy: 87.4%\n",
      "Val Loss: 0.340, Val Accuracy: 87.5%\n",
      "***************************************************\n",
      "\n",
      "Epoch: 3\n",
      "\n",
      "Batch 500, Loss: 0.300, Accuracy: 89.0%\n",
      "Batch 1000, Loss: 0.312, Accuracy: 88.4%\n",
      "Batch 1500, Loss: 0.324, Accuracy: 89.1%\n",
      "Batch 2000, Loss: 0.302, Accuracy: 88.8%\n",
      "Batch 2500, Loss: 0.297, Accuracy: 89.5%\n",
      "Batch 3000, Loss: 0.305, Accuracy: 88.2%\n",
      "Batch 3500, Loss: 0.330, Accuracy: 87.6%\n",
      "Batch 4000, Loss: 0.291, Accuracy: 89.5%\n"
     ]
    }
   ],
   "source": [
    "num_epochs = 10\n",
    "\n",
    "for epoch_index in range(num_epochs):\n",
    "    print(f'Epoch: {epoch_index + 1}\\n')\n",
    "    \n",
    "    train_one_epoch()\n",
    "    validate_one_epoch()\n",
    "    \n",
    "print('Finished Training') "
   ]
  }
 ],
 "metadata": {
  "kernelspec": {
   "display_name": "fashion",
   "language": "python",
   "name": "python3"
  },
  "language_info": {
   "codemirror_mode": {
    "name": "ipython",
    "version": 3
   },
   "file_extension": ".py",
   "mimetype": "text/x-python",
   "name": "python",
   "nbconvert_exporter": "python",
   "pygments_lexer": "ipython3",
   "version": "3.9.0"
  }
 },
 "nbformat": 4,
 "nbformat_minor": 5
}
